{
 "cells": [
  {
   "cell_type": "code",
   "execution_count": 1,
   "metadata": {},
   "outputs": [],
   "source": [
    "range(1,5)\n",
    "\n",
    "def funcaoLeitura():\n",
    "    for num in [1,2,3,4,5]:\n",
    "        print(\"número\", num)"
   ]
  },
  {
   "cell_type": "code",
   "execution_count": 2,
   "metadata": {},
   "outputs": [
    {
     "name": "stdout",
     "output_type": "stream",
     "text": [
      "número 1\n",
      "número 2\n",
      "número 3\n",
      "número 4\n",
      "número 5\n"
     ]
    }
   ],
   "source": [
    "funcaoLeitura()"
   ]
  },
  {
   "cell_type": "code",
   "execution_count": 3,
   "metadata": {},
   "outputs": [],
   "source": [
    "range(1,5)\n",
    "\n",
    "def funcaoLeitura():\n",
    "    for num in range(5):\n",
    "        print(\"número\", num)"
   ]
  },
  {
   "cell_type": "code",
   "execution_count": 4,
   "metadata": {},
   "outputs": [
    {
     "name": "stdout",
     "output_type": "stream",
     "text": [
      "número 0\n",
      "número 1\n",
      "número 2\n",
      "número 3\n",
      "número 4\n"
     ]
    }
   ],
   "source": [
    "funcaoLeitura()"
   ]
  },
  {
   "cell_type": "code",
   "execution_count": 5,
   "metadata": {},
   "outputs": [],
   "source": [
    "## função para somar dois números\n",
    "def addNum(n1, n2):\n",
    "    print(\"o primeiro número é: \", n1)\n",
    "    print(\"O segundo número é : \", n2)\n",
    "    print(\"A soma dos números é: \", n1+n2)"
   ]
  },
  {
   "cell_type": "code",
   "execution_count": 8,
   "metadata": {},
   "outputs": [
    {
     "ename": "TypeError",
     "evalue": "addNum() missing 2 required positional arguments: 'n1' and 'n2'",
     "output_type": "error",
     "traceback": [
      "\u001b[1;31m---------------------------------------------------------------------------\u001b[0m",
      "\u001b[1;31mTypeError\u001b[0m                                 Traceback (most recent call last)",
      "Cell \u001b[1;32mIn[8], line 1\u001b[0m\n\u001b[1;32m----> 1\u001b[0m \u001b[43maddNum\u001b[49m\u001b[43m(\u001b[49m\u001b[43m)\u001b[49m\n",
      "\u001b[1;31mTypeError\u001b[0m: addNum() missing 2 required positional arguments: 'n1' and 'n2'"
     ]
    }
   ],
   "source": [
    "addNum()"
   ]
  },
  {
   "cell_type": "code",
   "execution_count": 9,
   "metadata": {},
   "outputs": [
    {
     "name": "stdout",
     "output_type": "stream",
     "text": [
      "o primeiro número é:  4\n",
      "O segundo número é :  3\n",
      "A soma dos números é:  7\n"
     ]
    }
   ],
   "source": [
    "addNum(4,3)"
   ]
  },
  {
   "cell_type": "code",
   "execution_count": 10,
   "metadata": {},
   "outputs": [
    {
     "name": "stdout",
     "output_type": "stream",
     "text": [
      "o primeiro número é:  2\n",
      "O segundo número é :  6\n",
      "A soma dos números é:  8\n"
     ]
    }
   ],
   "source": [
    "addNum(2,6)"
   ]
  },
  {
   "cell_type": "code",
   "execution_count": 16,
   "metadata": {},
   "outputs": [],
   "source": [
    "varGlobal = 10 #essa é uma variável global\n",
    "def multiplica(num1,num2):\n",
    "    varLocal = num1 * num2 # essa  é uma variável local\n",
    "    print(\"Variável da função Multiplica: \", varLocal)\n",
    "    print(varLocal)\n",
    "    "
   ]
  },
  {
   "cell_type": "code",
   "execution_count": 17,
   "metadata": {},
   "outputs": [
    {
     "name": "stdout",
     "output_type": "stream",
     "text": [
      "Variável da função Multiplica:  24\n",
      "24\n"
     ]
    }
   ],
   "source": [
    "multiplica(4,6)"
   ]
  },
  {
   "cell_type": "code",
   "execution_count": 19,
   "metadata": {},
   "outputs": [],
   "source": [
    "varGlobal = 10 # essa é uma variável global\n",
    "def multiplicacao(num1, num2):\n",
    "    #apesar do mesmo nome, é um variável local:\n",
    "    varGlobal = (num1 * num2)\n",
    "    print(\"variável da função multiplica: \", varGlobal)"
   ]
  },
  {
   "cell_type": "code",
   "execution_count": 20,
   "metadata": {},
   "outputs": [
    {
     "name": "stdout",
     "output_type": "stream",
     "text": [
      "variável da função multiplica:  20\n",
      "10\n"
     ]
    }
   ],
   "source": [
    "multiplicacao(5, 4) # chamar a função multiplicação dando os parâmetros que ela deve usar na variavel local\n",
    "print(varGlobal) # chamando a variável global "
   ]
  },
  {
   "cell_type": "code",
   "execution_count": 23,
   "metadata": {},
   "outputs": [],
   "source": [
    "# quando não sabemos a quantidade de parâmetros  basta...\n",
    "def variosParametros(*parametros):\n",
    "    for n, item in enumerate(parametros):\n",
    "        print(\"Parâmetro\", n, item)\n",
    "    return"
   ]
  },
  {
   "cell_type": "code",
   "execution_count": 24,
   "metadata": {},
   "outputs": [
    {
     "name": "stdout",
     "output_type": "stream",
     "text": [
      "Parâmetro 0 Luquinhas\n",
      "Parâmetro 1 Madá\n",
      "Parâmetro 2  Giggio\n"
     ]
    }
   ],
   "source": [
    "variosParametros('Luquinhas', 'Madá', ' Giggio')"
   ]
  },
  {
   "cell_type": "code",
   "execution_count": 27,
   "metadata": {},
   "outputs": [],
   "source": [
    "def soma(n1, n2):\n",
    "    return n1+n2\n",
    "def subtrai(n1, n2):\n",
    "    return n1-n2\n",
    "def multiplica(n1, n2):\n",
    "    return n1*n2\n",
    "def divide(n1, n2):\n",
    "    return n1/n2"
   ]
  },
  {
   "cell_type": "code",
   "execution_count": 23,
   "metadata": {},
   "outputs": [
    {
     "name": "stdout",
     "output_type": "stream",
     "text": [
      "| Menu de operações|\n",
      "+==================+\n",
      "|  1 - somar       |\n",
      "|  2 - subtrair    |\n",
      "|  3 - multiplicar |\n",
      "|  4 - dividir     |\n",
      "|  0 - sair        |\n",
      "+==================+\n",
      " o resultado da divisão é:  5.0\n"
     ]
    }
   ],
   "source": [
    "def soma(n1, n2):\n",
    "    return n1+n2\n",
    "def subtrai(n1, n2):\n",
    "    return n1-n2\n",
    "def multiplica(n1, n2):\n",
    "    return n1*n2\n",
    "def divide(n1, n2):\n",
    "    return n1/n2\n",
    "\n",
    "while True: \n",
    "    print(\"| Menu de operações|\")\n",
    "    print(\"+==================+\")\n",
    "    print(\"|  1 - somar       |\")\n",
    "    print(\"|  2 - subtrair    |\")\n",
    "    print(\"|  3 - multiplicar |\")\n",
    "    print(\"|  4 - dividir     |\")\n",
    "    print(\"|  0 - sair        |\")\n",
    "    print(\"+==================+\")\n",
    "    \n",
    "    op = int(input())\n",
    "    if op==0:\n",
    "        break\n",
    "    \n",
    "    n1 = int(input(\"Primeiro número: \"))\n",
    "    n2 = int(input(\"segundo número: \"))\n",
    "    \n",
    "    if op==1:\n",
    "        print(\"o resultado da soma é : \", soma(n1, n2))\n",
    "    elif op ==2:\n",
    "        print(\" o resultado da subtração é: \", subtrai(n1,n2))\n",
    "    elif op ==3:\n",
    "        print(\" o resultado da multiplicação é: \", multiplica(n1,n2))\n",
    "    elif op ==4:\n",
    "        print(\" o resultado da divisão é: \", divide(n1, n2))\n",
    "    elif op == 0:\n",
    "        print('Fim')\n",
    "    else:\n",
    "        print('Número inválido, tente novamente')\n",
    "    break"
   ]
  }
 ],
 "metadata": {
  "kernelspec": {
   "display_name": "Python 3",
   "language": "python",
   "name": "python3"
  },
  "language_info": {
   "codemirror_mode": {
    "name": "ipython",
    "version": 3
   },
   "file_extension": ".py",
   "mimetype": "text/x-python",
   "name": "python",
   "nbconvert_exporter": "python",
   "pygments_lexer": "ipython3",
   "version": "3.11.4"
  }
 },
 "nbformat": 4,
 "nbformat_minor": 2
}
