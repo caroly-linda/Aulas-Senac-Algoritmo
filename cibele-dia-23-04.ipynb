{
 "cells": [
  {
   "cell_type": "code",
   "execution_count": 13,
   "metadata": {},
   "outputs": [
    {
     "name": "stdout",
     "output_type": "stream",
     "text": [
      "[99, 76, 92.3, 'oi', 'Cibele', 4, 76, 'pitomba', 76]\n"
     ]
    }
   ],
   "source": [
    "minhaLista =[76,92.3,\"oi\", True, 4, 76]\n",
    "minhaLista.append(\"pitomba\")\n",
    "minhaLista.append(76)\n",
    "minhaLista.insert(3, \"Cibele\")\n",
    "minhaLista.insert(0, 99)\n",
    "\n",
    "minhaLista.remove(True)\n",
    "print(minhaLista)"
   ]
  }
 ],
 "metadata": {
  "kernelspec": {
   "display_name": "Python 3",
   "language": "python",
   "name": "python3"
  },
  "language_info": {
   "codemirror_mode": {
    "name": "ipython",
    "version": 3
   },
   "file_extension": ".py",
   "mimetype": "text/x-python",
   "name": "python",
   "nbconvert_exporter": "python",
   "pygments_lexer": "ipython3",
   "version": "3.11.1"
  }
 },
 "nbformat": 4,
 "nbformat_minor": 2
}
