{
 "cells": [
  {
   "cell_type": "code",
   "execution_count": 29,
   "metadata": {},
   "outputs": [
    {
     "name": "stdout",
     "output_type": "stream",
     "text": [
      "b\n",
      "a\n",
      "n\n",
      "a\n",
      "n\n",
      "a\n"
     ]
    }
   ],
   "source": [
    "for x in \"banana\":\n",
    "    print(x)"
   ]
  },
  {
   "cell_type": "code",
   "execution_count": 100,
   "metadata": {},
   "outputs": [
    {
     "name": "stdout",
     "output_type": "stream",
     "text": [
      "2\n",
      "5\n",
      "8\n",
      "11\n",
      "14\n",
      "17\n",
      "20\n",
      "23\n",
      "26\n",
      "29\n"
     ]
    }
   ],
   "source": [
    "for x in range(2,30,3):\n",
    "    print(x)"
   ]
  },
  {
   "cell_type": "code",
   "execution_count": 118,
   "metadata": {},
   "outputs": [
    {
     "name": "stdout",
     "output_type": "stream",
     "text": [
      "[23, 4, 6, 3, 8, 5, 7, 3, 6, 9]\n"
     ]
    }
   ],
   "source": [
    "numerosInteiros = []\n",
    "for x in range(10):\n",
    " numerosInteiros += [int(input(\"Digite um número inteiro\"))]\n",
    "print(numerosInteiros)"
   ]
  },
  {
   "cell_type": "code",
   "execution_count": 127,
   "metadata": {},
   "outputs": [
    {
     "name": "stdout",
     "output_type": "stream",
     "text": [
      "esses são os números pares: [4, 6, 8, 6]\n",
      "esses são os números ímpares: [23, 3, 5, 7, 3, 9]\n"
     ]
    }
   ],
   "source": [
    "pares =[]\n",
    "impares = []\n",
    "for x in range(10):\n",
    "    if (numerosInteiros[x] % 2 ==0):\n",
    "        pares.append(numerosInteiros[x])\n",
    "    else:\n",
    "        impares.append(numerosInteiros[x])\n",
    "print(\"esses são os números pares:\", pares)\n",
    "print(\"esses são os números ímpares:\", impares)\n",
    "\n",
    "\n",
    "\n",
    "\n",
    "   \n"
   ]
  }
 ],
 "metadata": {
  "kernelspec": {
   "display_name": "Python 3",
   "language": "python",
   "name": "python3"
  },
  "language_info": {
   "codemirror_mode": {
    "name": "ipython",
    "version": 3
   },
   "file_extension": ".py",
   "mimetype": "text/x-python",
   "name": "python",
   "nbconvert_exporter": "python",
   "pygments_lexer": "ipython3",
   "version": "3.11.1"
  }
 },
 "nbformat": 4,
 "nbformat_minor": 2
}
