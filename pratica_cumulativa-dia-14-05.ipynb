{
 "cells": [
  {
   "cell_type": "code",
   "execution_count": 21,
   "metadata": {},
   "outputs": [
    {
     "name": "stdout",
     "output_type": "stream",
     "text": [
      "a letra escolhida é vogal\n"
     ]
    }
   ],
   "source": [
    "## a letra é vogal ou consoante \n",
    "vogais = [\"a\" , \"e\", \"i\", \"o\", \"u\"]\n",
    "letra = input(str(\"escolha uma letra\"))\n",
    "eVogal = False\n",
    "for vogal in vogais:\n",
    "    if letra == vogal:\n",
    "        eVogal = True\n",
    "if eVogal:\n",
    "    print(\"a letra escolhida é vogal\")\n",
    "else:\n",
    "    print(\"a letra escolhida é consoante\")"
   ]
  },
  {
   "cell_type": "code",
   "execution_count": 22,
   "metadata": {},
   "outputs": [
    {
     "name": "stdout",
     "output_type": "stream",
     "text": [
      "o mais barato é o produto:  1\n"
     ]
    }
   ],
   "source": [
    "produto1 = input(\"coloque o preço do produto 1\")\n",
    "produto2 = input(\"coloque o preço do produto 2\")\n",
    "produto3 = input(\"coloque o preço do produto 3\")\n",
    "lista =[produto1, produto2, produto3]\n",
    "maisBarato = 1\n",
    "for i in range(len(lista)-1):\n",
    "    if (lista[i]< lista[i+1]):\n",
    "        maisBarato = i +1\n",
    "print(\"o mais barato é o produto: \", maisBarato)\n",
    "    "
   ]
  },
  {
   "cell_type": "code",
   "execution_count": null,
   "metadata": {},
   "outputs": [],
   "source": []
  }
 ],
 "metadata": {
  "kernelspec": {
   "display_name": "Python 3",
   "language": "python",
   "name": "python3"
  },
  "language_info": {
   "codemirror_mode": {
    "name": "ipython",
    "version": 3
   },
   "file_extension": ".py",
   "mimetype": "text/x-python",
   "name": "python",
   "nbconvert_exporter": "python",
   "pygments_lexer": "ipython3",
   "version": "3.11.1"
  }
 },
 "nbformat": 4,
 "nbformat_minor": 2
}
