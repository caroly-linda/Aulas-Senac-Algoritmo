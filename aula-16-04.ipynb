{
 "cells": [
  {
   "cell_type": "code",
   "execution_count": null,
   "metadata": {},
   "outputs": [],
   "source": [
    "numero1 int(input(Escolha o primeiro número))\n",
    "numero2 int(input(Escolha o segundo número))\n",
    "numero3 int(input(Escolha o terceiro número))"
   ]
  },
  {
   "cell_type": "code",
   "execution_count": 14,
   "metadata": {},
   "outputs": [],
   "source": [
    "# inserir o ano e o preço do carro\n",
    "ano_de_fabricacao = int(input('Digite o ano de fabricação do carro'))\n",
    "preco_do_carro = float(input('Digite o preço do carro'))\n"
   ]
  },
  {
   "cell_type": "code",
   "execution_count": 15,
   "metadata": {},
   "outputs": [
    {
     "name": "stdout",
     "output_type": "stream",
     "text": [
      "A taxa vai ser de 1,5%\n"
     ]
    }
   ],
   "source": [
    "#se o carro foi fabricado antes de 1990 a taxa deve ser de 1% \n",
    "#se foi fabricado depois de 1990 a taxa é de 1.5%\n",
    "if (ano_de_fabricacao < 1990):\n",
    "    print('A taxa vai ser de 1%')\n",
    "else :\n",
    "    print('A taxa vai ser de 1,5%')"
   ]
  },
  {
   "cell_type": "code",
   "execution_count": 35,
   "metadata": {},
   "outputs": [
    {
     "name": "stdout",
     "output_type": "stream",
     "text": [
      "novo salário é : 2280.0 O antigo era de: 1900.0 O ajuste foi de  380.0\n"
     ]
    }
   ],
   "source": [
    "# qual o cargo e o salário antigo do funcionário \n",
    "cargo = int(input('Qual o código do cargo?'))\n",
    "salario_antigo = float(input('Digite o valor do seu salário'))\n",
    "\n",
    "#lista de porcentagem de ajuste por cargo\n",
    "novo_salario = salario_antigo + ajuste\n",
    "if (cargo == 101):\n",
    "    ajuste = salario_antigo *  10/ 100\n",
    "    novo_salario = salario_antigo + ajuste\n",
    "    print (\"novo salário é :\", novo_salario, \"O antigo era de \", salario_antigo,\"O ajuste foi de\",  ajuste)\n",
    "elif (cargo == 102): \n",
    "    ajuste = salario_antigo * 20 / 100\n",
    "    novo_salario = salario_antigo + ajuste\n",
    "    print (\"novo salário é :\", novo_salario, \"O antigo era de:\", salario_antigo,\"O ajuste foi de \",  ajuste)\n",
    "elif (cargo == 103):\n",
    "    ajuste = salario_antigo *30 / 100\n",
    "    novo_salario = salario_antigo + ajuste\n",
    "    print (\"novo salário é :\", novo_salario, \"O antigo era de:\", salario_antigo,\"O ajuste foi de \",  ajuste)\n",
    "else:\n",
    "    ajuste = salario_antigo * 40 / 100\n",
    "    novo_salario = salario_antigo + ajuste\n",
    "    print (\"novo salário é :\", novo_salario, \"O antigo era de:\", salario_antigo,\"O ajuste foi de \",  ajuste)"
   ]
  }
 ],
 "metadata": {
  "kernelspec": {
   "display_name": "Python 3",
   "language": "python",
   "name": "python3"
  },
  "language_info": {
   "codemirror_mode": {
    "name": "ipython",
    "version": 3
   },
   "file_extension": ".py",
   "mimetype": "text/x-python",
   "name": "python",
   "nbconvert_exporter": "python",
   "pygments_lexer": "ipython3",
   "version": "3.11.4"
  }
 },
 "nbformat": 4,
 "nbformat_minor": 2
}
