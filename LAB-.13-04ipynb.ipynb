{
 "cells": [
  {
   "cell_type": "code",
   "execution_count": 63,
   "metadata": {},
   "outputs": [
    {
     "name": "stdout",
     "output_type": "stream",
     "text": [
      "2 4 2.5\n"
     ]
    }
   ],
   "source": [
    "# Faça um Programa que peça 2 números inteiros e um número real\n",
    "numero1 = int(input(\"Digite um número inteiro\"))\n",
    "numero2 = int(input(\"Digite um número inteiro\"))\n",
    "numero3 = float(input(\"Digite um número real\"))\n",
    "print(numero1, numero2, numero3)\n"
   ]
  },
  {
   "cell_type": "code",
   "execution_count": 64,
   "metadata": {},
   "outputs": [
    {
     "data": {
      "text/plain": [
       "6.0"
      ]
     },
     "execution_count": 64,
     "metadata": {},
     "output_type": "execute_result"
    }
   ],
   "source": [
    "# O produto do dobro do primeiro com metade do segundo\n",
    "(numero1 * 2) + (numero2 / 2)"
   ]
  },
  {
   "cell_type": "code",
   "execution_count": 65,
   "metadata": {},
   "outputs": [
    {
     "data": {
      "text/plain": [
       "21.625"
      ]
     },
     "execution_count": 65,
     "metadata": {},
     "output_type": "execute_result"
    }
   ],
   "source": [
    "#A soma do triplo do primeiro com o terceiro. o terceiro elevado ao cubo\n",
    "(numero1 * 3) + (numero3 ** 3)"
   ]
  },
  {
   "cell_type": "code",
   "execution_count": 70,
   "metadata": {},
   "outputs": [
    {
     "name": "stdout",
     "output_type": "stream",
     "text": [
      "8 e 9\n"
     ]
    }
   ],
   "source": [
    "# Faça um Programa que peça dois números e imprima o maior deles\n",
    "numero_1 = input(\"escolha um número\")\n",
    "numero_2 = input(\"escolha outro número\")\n",
    "print(numero_1, \"e\",numero_2)"
   ]
  },
  {
   "cell_type": "code",
   "execution_count": 72,
   "metadata": {},
   "outputs": [
    {
     "name": "stdout",
     "output_type": "stream",
     "text": [
      "9 é maior que  8\n"
     ]
    }
   ],
   "source": [
    "# Mostrar o maior número entre eles\n",
    "if (numero_1 > numero_2):\n",
    "    print(numero_1, \"é maior que\", numero_2)\n",
    "else:\n",
    "    print(numero_2, \"é maior que \", numero_1)"
   ]
  },
  {
   "cell_type": "code",
   "execution_count": 96,
   "metadata": {},
   "outputs": [
    {
     "name": "stdout",
     "output_type": "stream",
     "text": [
      "4 é positivo\n"
     ]
    }
   ],
   "source": [
    "#peça um valor e mostre na tela se o valor é positivo ou negativo\n",
    "numeroInteiro = int(input(\"Escolha um número\"))\n",
    "if (numeroInteiro> 0):\n",
    "    print(numeroInteiro, \"é positivo\")\n",
    "elif(numeroInteiro == 0):\n",
    "    print(numeroInteiro, \"é neutro\")\n",
    "else:\n",
    "    print(numeroInteiro, \"é negativo\")\n",
    "\n"
   ]
  },
  {
   "cell_type": "code",
   "execution_count": 112,
   "metadata": {},
   "outputs": [
    {
     "name": "stdout",
     "output_type": "stream",
     "text": [
      "Reprovado\n"
     ]
    }
   ],
   "source": [
    "# Calcular a média do aluno e dizer se foi aprovado\n",
    "nota1 = float(input(\"Coloque a primeira nota\"))\n",
    "nota2 =  float(input(\"coloque a segunda nota \"))\n",
    "media = (nota1 + nota2)/2\n",
    "if (media >= 7):\n",
    "    print(\"Aprovado\")\n",
    "else:\n",
    "    print(\"Reprovado\")"
   ]
  },
  {
   "cell_type": "code",
   "execution_count": 113,
   "metadata": {},
   "outputs": [
    {
     "name": "stdout",
     "output_type": "stream",
     "text": [
      "6\n"
     ]
    }
   ],
   "source": [
    "# Dizer qual o maior número entre 3\n",
    "primeiro = int(input(\"Coloque o primeiro número\"))\n",
    "segundo = int(input(\"Coloque o segundo número\"))\n",
    "terceiro = int(input(\"Coloque o terceiro número\"))\n",
    "maiorValor = 0\n",
    "if (primeiro >= maiorValor):\n",
    "    maiorValor = primeiro\n",
    "if (segundo >= maiorValor):\n",
    "    maiorValor = segundo\n",
    "if (terceiro >= maiorValor):\n",
    "    maiorValor = terceiro\n",
    "print(maiorValor)"
   ]
  }
 ],
 "metadata": {
  "kernelspec": {
   "display_name": "Python 3",
   "language": "python",
   "name": "python3"
  },
  "language_info": {
   "codemirror_mode": {
    "name": "ipython",
    "version": 3
   },
   "file_extension": ".py",
   "mimetype": "text/x-python",
   "name": "python",
   "nbconvert_exporter": "python",
   "pygments_lexer": "ipython3",
   "version": "3.11.1"
  }
 },
 "nbformat": 4,
 "nbformat_minor": 2
}
