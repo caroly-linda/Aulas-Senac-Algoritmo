{
 "cells": [
  {
   "cell_type": "code",
   "execution_count": 76,
   "metadata": {},
   "outputs": [
    {
     "name": "stdout",
     "output_type": "stream",
     "text": [
      "5 patinhos foram passear, além das montanhas, na beira do mar. A mamãe gritou qua qua qua qua, mas só  4 patinhos voltaram de lá\n",
      "4 patinhos foram passear, além das montanhas, na beira do mar. A mamãe gritou qua qua qua qua, mas só  3 patinhos voltaram de lá\n",
      "3 patinhos foram passear, além das montanhas, na beira do mar. A mamãe gritou qua qua qua qua, mas só  2 patinhos voltaram de lá\n",
      "2 patinhos foram passear, além das montanhas, na beira do mar. A mamãe gritou qua qua qua qua, mas só  1 patinho voltou de lá\n",
      "1 patinho foi passear, além das montanhas, na beira do mar. A mamãe gritou qua qua qua qua, mas nenhum patinho voltou de lá\n"
     ]
    }
   ],
   "source": [
    "##cinco patinhos foram passear\n",
    "todos = 5\n",
    "for patinhos in range(todos):\n",
    "    if todos == 1:\n",
    "        print( todos ,\"patinho foi passear, além das montanhas, na beira do mar. A mamãe gritou qua qua qua qua, mas nenhum patinho voltou de lá\")\n",
    "\n",
    "    elif(todos == 2):\n",
    "       print( todos ,\"patinhos foram passear, além das montanhas, na beira do mar. A mamãe gritou qua qua qua qua, mas só \" , todos - 1 , \"patinho voltou de lá\")\n",
    "    else:\n",
    "        print( todos ,\"patinhos foram passear, além das montanhas, na beira do mar. A mamãe gritou qua qua qua qua, mas só \" , todos - 1 , \"patinhos voltaram de lá\")\n",
    "\n",
    "    todos = todos - 1"
   ]
  },
  {
   "cell_type": "code",
   "execution_count": 80,
   "metadata": {},
   "outputs": [
    {
     "name": "stdout",
     "output_type": "stream",
     "text": [
      "Mariana conta  1 , mariana conta 1 é\n",
      "Mariana conta  2 , mariana conta 2 é\n",
      "Mariana conta  3 , mariana conta 3 é\n",
      "Mariana conta  4 , mariana conta 4 é\n",
      "Mariana conta  5 , mariana conta 5 é\n",
      "Mariana conta  6 , mariana conta 6 é\n",
      "Mariana conta  7 , mariana conta 7 é\n",
      "Mariana conta  8 , mariana conta 8 é\n",
      "Mariana conta  9 , mariana conta 9 é\n",
      "Mariana conta  10 , mariana conta 10 é\n"
     ]
    }
   ],
   "source": [
    "## Mariana conta de 1 até 10\n",
    "lista = [1, 2, 3, 4, 5, 6, 7, 8, 9, 10]\n",
    "cont = 1\n",
    "\n",
    "while cont <= 10:\n",
    "     \n",
    "     print(\"Mariana conta \",cont, \", mariana conta\", cont, \"é\", )\n",
    "     cont += 1\n",
    "v = 1\n",
    "\n"
   ]
  },
  {
   "cell_type": "code",
   "execution_count": 67,
   "metadata": {},
   "outputs": [
    {
     "name": "stdout",
     "output_type": "stream",
     "text": [
      "Mariana conta 1 ,mariana conta  1 é ['1'] é Ana, viva Mariana, viva Mariana\n",
      "Mariana conta 2 ,mariana conta  2 é ['1', '2'] é Ana, viva Mariana, viva Mariana\n",
      "Mariana conta 3 ,mariana conta  3 é ['1', '2', '3'] é Ana, viva Mariana, viva Mariana\n",
      "Mariana conta 4 ,mariana conta  4 é ['1', '2', '3', '4'] é Ana, viva Mariana, viva Mariana\n",
      "Mariana conta 5 ,mariana conta  5 é ['1', '2', '3', '4', '5'] é Ana, viva Mariana, viva Mariana\n",
      "Mariana conta 6 ,mariana conta  6 é ['1', '2', '3', '4', '5', '6'] é Ana, viva Mariana, viva Mariana\n",
      "Mariana conta 7 ,mariana conta  7 é ['1', '2', '3', '4', '5', '6', '7'] é Ana, viva Mariana, viva Mariana\n",
      "Mariana conta 8 ,mariana conta  8 é ['1', '2', '3', '4', '5', '6', '7', '8'] é Ana, viva Mariana, viva Mariana\n",
      "Mariana conta 9 ,mariana conta  9 é ['1', '2', '3', '4', '5', '6', '7', '8', '9'] é Ana, viva Mariana, viva Mariana\n",
      "Mariana conta 10 ,mariana conta  10 é ['1', '2', '3', '4', '5', '6', '7', '8', '9', '10'] é Ana, viva Mariana, viva Mariana\n"
     ]
    }
   ],
   "source": [
    "## Melhorando o que fiz antes\n",
    "x = [1]\n",
    "lista = []\n",
    "for i in range(1, 11):\n",
    "  lista.append(str(i))\n",
    "\n",
    "  print(\"Mariana conta\", i ,\",mariana conta \", i, \"é\", lista, \"é Ana, viva Mariana, viva Mariana\")\n",
    "  x.append(str(lista))\n",
    "\n"
   ]
  },
  {
   "cell_type": "code",
   "execution_count": 35,
   "metadata": {},
   "outputs": [
    {
     "name": "stdout",
     "output_type": "stream",
     "text": [
      "Mariana conta 1 ,mariana conta  1 é ['1'] é ['1'] é Ana, viva Mariana, viva Mariana\n",
      "Mariana conta 2 ,mariana conta  2 é ['1', '2'] é Ana, viva Mariana, viva Mariana\n",
      "Mariana conta 3 ,mariana conta  3 é ['1', '2', '3'] é Ana, viva Mariana, viva Mariana\n",
      "Mariana conta 4 ,mariana conta  4 é ['1', '2', '3', '4'] é Ana, viva Mariana, viva Mariana\n",
      "Mariana conta 5 ,mariana conta  5 é ['1', '2', '3', '4', '5'] é Ana, viva Mariana, viva Mariana\n",
      "Mariana conta 6 ,mariana conta  6 é ['1', '2', '3', '4', '5', '6'] é Ana, viva Mariana, viva Mariana\n",
      "Mariana conta 7 ,mariana conta  7 é ['1', '2', '3', '4', '5', '6', '7'] é Ana, viva Mariana, viva Mariana\n",
      "Mariana conta 8 ,mariana conta  8 é ['1', '2', '3', '4', '5', '6', '7', '8'] é Ana, viva Mariana, viva Mariana\n",
      "Mariana conta 9 ,mariana conta  9 é ['1', '2', '3', '4', '5', '6', '7', '8', '9'] é Ana, viva Mariana, viva Mariana\n",
      "Mariana conta 10 ,mariana conta  10 é ['1', '2', '3', '4', '5', '6', '7', '8', '9', '10'] é Ana, viva Mariana, viva Mariana\n"
     ]
    }
   ],
   "source": [
    "## Fazendo uma repetição para o número 1\n",
    "x = [1]\n",
    "lista = []\n",
    "for i in range(1, 11):\n",
    "  lista.append(str(i))\n",
    "  if i !=1:\n",
    "   print(\"Mariana conta\", i ,\",mariana conta \", i, \"é\", lista , \"é Ana, viva Mariana, viva Mariana\") \n",
    "  else:\n",
    "   print(\"Mariana conta\", i ,\",mariana conta \", i, \"é\", lista ,\"é\", lista, \"é Ana, viva Mariana, viva Mariana\")\n",
    "  \n"
   ]
  },
  {
   "cell_type": "code",
   "execution_count": 33,
   "metadata": {},
   "outputs": [
    {
     "name": "stdout",
     "output_type": "stream",
     "text": [
      "Mariana conta 1 , mariana conta  1 é 1  é  1\n",
      " é Ana, viva Mariana, viva Mariana\n",
      "Mariana conta 2 ,mariana conta  2\n",
      " é 1 é 2 é Ana, viva Mariana, viva Mariana\n",
      "Mariana conta 3 ,mariana conta  3\n",
      " é 1 é 2 é 3 é Ana, viva Mariana, viva Mariana\n",
      "Mariana conta 4 ,mariana conta  4\n",
      " é 1 é 2 é 3 é 4 é Ana, viva Mariana, viva Mariana\n",
      "Mariana conta 5 ,mariana conta  5\n",
      " é 1 é 2 é 3 é 4 é 5 é Ana, viva Mariana, viva Mariana\n",
      "Mariana conta 6 ,mariana conta  6\n",
      " é 1 é 2 é 3 é 4 é 5 é 6 é Ana, viva Mariana, viva Mariana\n",
      "Mariana conta 7 ,mariana conta  7\n",
      " é 1 é 2 é 3 é 4 é 5 é 6 é 7 é Ana, viva Mariana, viva Mariana\n",
      "Mariana conta 8 ,mariana conta  8\n",
      " é 1 é 2 é 3 é 4 é 5 é 6 é 7 é 8 é Ana, viva Mariana, viva Mariana\n",
      "Mariana conta 9 ,mariana conta  9\n",
      " é 1 é 2 é 3 é 4 é 5 é 6 é 7 é 8 é 9 é Ana, viva Mariana, viva Mariana\n",
      "Mariana conta 10 ,mariana conta  10\n",
      " é 1 é 2 é 3 é 4 é 5 é 6 é 7 é 8 é 9 é 10 é Ana, viva Mariana, viva Mariana\n"
     ]
    }
   ],
   "source": [
    "## como me disseram que poderia ser\n",
    "x = [1]\n",
    "lista = []\n",
    "for i in range(1, 11):\n",
    "  lista.append(str(i))\n",
    "  if i !=1:\n",
    "   print(\"Mariana conta\", i ,\",mariana conta \", i) \n",
    "   for cadaNumero in lista:\n",
    "    print(\" é \" + cadaNumero, end=\"\")\n",
    "  else:\n",
    "   print(\"Mariana conta\", i ,\", mariana conta \", i, \"é\", i, \" é \", i)\n",
    "  print(\" é Ana, viva Mariana, viva Mariana\")  \n",
    "\n"
   ]
  },
  {
   "cell_type": "code",
   "execution_count": 118,
   "metadata": {},
   "outputs": [
    {
     "name": "stdout",
     "output_type": "stream",
     "text": [
      "1 elefante incomoda muito a gente, 2 elefantes incomodam incomodam  muito mais\n",
      "2 elefante incomodam muito a gente, 3 elefantes incomodam incomodam incomodam  muito mais\n",
      "3 elefante incomodam muito a gente, 4 elefantes incomodam incomodam incomodam incomodam  muito mais\n",
      "4 elefante incomodam muito a gente, 5 elefantes incomodam incomodam incomodam incomodam incomodam  muito mais\n",
      "5 elefante incomodam muito a gente, 6 elefantes incomodam incomodam incomodam incomodam incomodam incomodam  muito mais\n",
      "6 elefante incomodam muito a gente, 7 elefantes incomodam incomodam incomodam incomodam incomodam incomodam incomodam  muito mais\n",
      "7 elefante incomodam muito a gente, 8 elefantes incomodam incomodam incomodam incomodam incomodam incomodam incomodam incomodam  muito mais\n",
      "8 elefante incomodam muito a gente, 9 elefantes incomodam incomodam incomodam incomodam incomodam incomodam incomodam incomodam incomodam  muito mais\n",
      "9 elefante incomodam muito a gente, 10 elefantes incomodam incomodam incomodam incomodam incomodam incomodam incomodam incomodam incomodam incomodam  muito mais\n"
     ]
    }
   ],
   "source": [
    "## Desafio do elefante \n",
    "palavraIncomodam = \"incomodam \"\n",
    "for n in range(1,10):\n",
    "    if n == 1:\n",
    "     print(n ,\"elefante incomoda muito a gente,\" , n + (1), \"elefantes\", ((n+1)*(palavraIncomodam)),\"muito mais\")\n",
    "    else:\n",
    "       print(n ,\"elefante incomodam muito a gente,\" , n + (1), \"elefantes\", ((n+1)*(palavraIncomodam)),\"muito mais\")"
   ]
  }
 ],
 "metadata": {
  "kernelspec": {
   "display_name": "Python 3",
   "language": "python",
   "name": "python3"
  },
  "language_info": {
   "codemirror_mode": {
    "name": "ipython",
    "version": 3
   },
   "file_extension": ".py",
   "mimetype": "text/x-python",
   "name": "python",
   "nbconvert_exporter": "python",
   "pygments_lexer": "ipython3",
   "version": "3.11.1"
  }
 },
 "nbformat": 4,
 "nbformat_minor": 2
}
